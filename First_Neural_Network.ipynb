{
 "cells": [
  {
   "cell_type": "markdown",
   "metadata": {},
   "source": [
    "# Neural Networks in Keras\n",
    "\n",
    "\n",
    "First of all, we must import the tensorflow library, which you can install by using ``pip install tensorflow `` in one of the notebook cells."
   ]
  },
  {
   "cell_type": "code",
   "execution_count": 1,
   "metadata": {},
   "outputs": [],
   "source": [
    "import tensorflow as tf"
   ]
  },
  {
   "cell_type": "markdown",
   "metadata": {},
   "source": [
    "In order to have a first glance at what TensorFlow provides, we will have a look at the dataset **MNIST**, which is a part of the TensorFlow libray:"
   ]
  },
  {
   "cell_type": "code",
   "execution_count": 2,
   "metadata": {},
   "outputs": [],
   "source": [
    "mnist = tf.keras.datasets.mnist\n",
    "(x_train,y_train) , (x_test,y_test) = mnist.load_data()"
   ]
  },
  {
   "cell_type": "markdown",
   "metadata": {},
   "source": [
    " As you can see, in order to load the data, we have split the dataset into two tuples which contain the train data and the test data. Data labeled as x are ndarrays constituted by each of the images that comprise the MNIST dataset (if you are not familiar with it, you should know that these images are just handwritten numbers from 0 to 9), while data labeled as y is the label for each of the images (i.e. a number from 0 to 9). Let's have a look at one of the images:"
   ]
  },
  {
   "cell_type": "code",
   "execution_count": 3,
   "metadata": {},
   "outputs": [
    {
     "data": {
      "text/plain": [
       "<matplotlib.image.AxesImage at 0x7fc0784e96a0>"
      ]
     },
     "execution_count": 3,
     "metadata": {},
     "output_type": "execute_result"
    },
    {
     "data": {
      "image/png": "[encoded data removed]",
      "text/plain": [
       "<Figure size 432x288 with 1 Axes>"
      ]
     },
     "metadata": {
      "needs_background": "light"
     },
     "output_type": "display_data"
    }
   ],
   "source": [
    "import matplotlib.pyplot as plt\n",
    "plt.imshow(x_train[0])"
   ]
  },
  {
   "cell_type": "markdown",
   "metadata": {},
   "source": [
    "And now we can check its label, which should be a 5:"
   ]
  },
  {
   "cell_type": "code",
   "execution_count": 4,
   "metadata": {},
   "outputs": [
    {
     "name": "stdout",
     "output_type": "stream",
     "text": [
      "5\n"
     ]
    }
   ],
   "source": [
    "print(y_train[0])"
   ]
  },
  {
   "cell_type": "markdown",
   "metadata": {},
   "source": [
    "Each image is given as a 28x28 matrix, but in order to work with it, we will reshape it as an array with 784 elements. Since we have 60000 images, we will end up with a 60000(10000 for the test) x 784 matrix. The labels will also be reshaped, and instead of giving the label as a number from 0 to 9, we will now have an array of length 9 for each image whose only non-zero element is in the position of the label assigned to that image (i.e., if the previous label was a five, the 5th element of the array will be a 1)."
   ]
  },
  {
   "cell_type": "code",
   "execution_count": 5,
   "metadata": {},
   "outputs": [],
   "source": [
    "#Scaling from 0 to 1\n",
    "\n",
    "x_train = x_train.astype('float32')\n",
    "x_test = x_test.astype('float32')\n",
    "x_train = x_train/255 \n",
    "x_test = x_test/255\n",
    "\n",
    "#Reshaping\n",
    "\n",
    "x_train = x_train.reshape(60000,784)\n",
    "x_test = x_test.reshape(10000,784)\n",
    "\n",
    "#Creating new y-labels\n",
    "\n",
    "from tensorflow.keras.utils import to_categorical\n",
    "\n",
    "y_train = to_categorical(y_train,num_classes=10) #function inside tensorflow that does the work for us\n",
    "y_test = to_categorical(y_test,num_classes=10)\n"
   ]
  },
  {
   "cell_type": "markdown",
   "metadata": {},
   "source": [
    "## Building Our First Model\n",
    "\n",
    "We will start with a Sequential model, which is \"a plain stack of layers where each layer has exactly one input tensor and one output tensor\" (https://keras.io/guides/sequential_model/)."
   ]
  },
  {
   "cell_type": "code",
   "execution_count": 6,
   "metadata": {},
   "outputs": [],
   "source": [
    "from tensorflow import keras\n",
    "from tensorflow.keras import layers\n",
    "\n",
    "model = keras.Sequential()"
   ]
  },
  {
   "cell_type": "markdown",
   "metadata": {},
   "source": [
    "In order to add layers to the model, we use the following:"
   ]
  },
  {
   "cell_type": "code",
   "execution_count": 7,
   "metadata": {},
   "outputs": [],
   "source": [
    "model.add(layers.Dense(10,input_shape=(784,),activation=\"sigmoid\",name=\"dense_1\"))\n",
    "model.add(layers.Dense(10,activation=\"softmax\",name=\"dense_2\"))"
   ]
  },
  {
   "cell_type": "markdown",
   "metadata": {},
   "source": [
    "As you can see, we have added two layers with 10 densely connected neurons/nodes each (that is, all the neurons of one layer are connected with all the neurons of the other one. Apart from this, it is important to notice that the layers have different activation functions, which we will probably cover later. In the first layer, we have also explicitly stated the input shape. Keras library automatically deduces the tensor shapes between layers, so it is not necessary to provide this information to the following layers. In the end, we have ten neurons associated to each of the 10 numbers. These neurons will return the probabilities that an image is a certain number (i.e., the first neuron will give us the probability that a given image is a 0).\n",
    "\n",
    "Before continuing with the model training, I would like to introduce a function which is very useful to have a look at our model architecture, which is `summary()`:"
   ]
  },
  {
   "cell_type": "code",
   "execution_count": 8,
   "metadata": {},
   "outputs": [
    {
     "name": "stdout",
     "output_type": "stream",
     "text": [
      "Model: \"sequential\"\n",
      "_________________________________________________________________\n",
      "Layer (type)                 Output Shape              Param #   \n",
      "=================================================================\n",
      "dense_1 (Dense)              (None, 10)                7850      \n",
      "_________________________________________________________________\n",
      "dense_2 (Dense)              (None, 10)                110       \n",
      "=================================================================\n",
      "Total params: 7,960\n",
      "Trainable params: 7,960\n",
      "Non-trainable params: 0\n",
      "_________________________________________________________________\n"
     ]
    }
   ],
   "source": [
    "model.summary()"
   ]
  },
  {
   "cell_type": "markdown",
   "metadata": {},
   "source": [
    "This function provides us with the essential information of the architecture. We can see that in order to work with this neural network, we need 7960 parameters ($784*10$ from the weights and 10 from the bias of the first layer and $10*10$ from the weights and 10 from the bias of the second one). \n",
    "\n",
    "Now that we have done this, it is time to configure the learning process of our model. This is done with the method `compile()` (https://keras.io/api/models/model_training_apis/). In this case, we will choose the *stochastic gradient descent* as the optimizer, the *categorical cross entropy* as the loss function and the accuracy as metric. For now, we will not explain what these terms mean, but the first two are basically the parameters that define how our neural networks learns and the metrics are ways of analyzing how good our model is."
   ]
  },
  {
   "cell_type": "code",
   "execution_count": 9,
   "metadata": {},
   "outputs": [],
   "source": [
    "model.compile(loss=\"categorical_crossentropy\",\n",
    "             optimizer=\"sgd\",\n",
    "             metrics=[\"accuracy\"])"
   ]
  },
  {
   "cell_type": "markdown",
   "metadata": {},
   "source": [
    "## Training The Model\n",
    "\n",
    "Once we have established the kind of model we want to work with, all we have to do to train it is call `fit()` and add x_train and y_train as parameters. As you can see, there is another parameter called *epochs*, which is the number of times we will use the data in the learning process (we will cover this in future notebooks). In essence, what we are doing here is passing the data (x_train) through our neural network and comparing its outcome to the real labels (y_train). Once this is done, the loss function is calculated in order to adjust the model parameters. This process is repeated as many times as we have requested with the *epochs* parameter:"
   ]
  },
  {
   "cell_type": "code",
   "execution_count": 10,
   "metadata": {},
   "outputs": [
    {
     "name": "stdout",
     "output_type": "stream",
     "text": [
      "Epoch 1/5\n",
      "1875/1875 [==============================] - 2s 721us/step - loss: 2.1136 - accuracy: 0.3303\n",
      "Epoch 2/5\n",
      "1875/1875 [==============================] - 1s 748us/step - loss: 1.4113 - accuracy: 0.7090\n",
      "Epoch 3/5\n",
      "1875/1875 [==============================] - 1s 747us/step - loss: 1.0482 - accuracy: 0.7693\n",
      "Epoch 4/5\n",
      "1875/1875 [==============================] - 1s 723us/step - loss: 0.8504 - accuracy: 0.8092\n",
      "Epoch 5/5\n",
      "1875/1875 [==============================] - 1s 719us/step - loss: 0.7196 - accuracy: 0.8401\n"
     ]
    },
    {
     "data": {
      "text/plain": [
       "<tensorflow.python.keras.callbacks.History at 0x7fc06db53550>"
      ]
     },
     "execution_count": 10,
     "metadata": {},
     "output_type": "execute_result"
    }
   ],
   "source": [
    "model.fit(x_train,y_train,epochs=5)"
   ]
  },
  {
   "cell_type": "markdown",
   "metadata": {},
   "source": [
    "## Model Evaluation\n",
    "\n",
    "Now that we have trained the model, it is time to evaluate it. In order to do so, we can use `evaluate()`. This method will return the loss function and the accuracy of the model when using the test dataset:"
   ]
  },
  {
   "cell_type": "code",
   "execution_count": 14,
   "metadata": {},
   "outputs": [
    {
     "name": "stdout",
     "output_type": "stream",
     "text": [
      "313/313 [==============================] - 0s 653us/step - loss: 0.6394 - accuracy: 0.8607\n"
     ]
    }
   ],
   "source": [
    "test_loss, test_acc = model.evaluate(x_test, y_test)"
   ]
  },
  {
   "cell_type": "markdown",
   "metadata": {},
   "source": [
    "This is not the only way to evaluate or model, and it is actually pretty simple. A very common way to study the performance of a model is the use of confusion matrices (https://en.wikipedia.org/wiki/Confusion_matrix , the link only covers the binary case, but it is easy to generalize). Below, you can find the code:"
   ]
  },
  {
   "cell_type": "code",
   "execution_count": 50,
   "metadata": {},
   "outputs": [
    {
     "name": "stderr",
     "output_type": "stream",
     "text": [
      "/Users/JackeyTrey/opt/anaconda3/lib/python3.8/site-packages/tensorflow/python/keras/engine/sequential.py:450: UserWarning: `model.predict_classes()` is deprecated and will be removed after 2021-01-01. Please use instead:* `np.argmax(model.predict(x), axis=-1)`,   if your model does multi-class classification   (e.g. if it uses a `softmax` last-layer activation).* `(model.predict(x) > 0.5).astype(\"int32\")`,   if your model does binary classification   (e.g. if it uses a `sigmoid` last-layer activation).\n",
      "  warnings.warn('`model.predict_classes()` is deprecated and '\n"
     ]
    }
   ],
   "source": [
    "y_pred = model.predict_classes(x_test)#if we use predict(), we would obtain the scores of the regression. This returns the class\n",
    "y_test_classes = [np.argmax(y, axis=None, out=None) for y in y_test] #we reverse the categorical \n"
   ]
  },
  {
   "cell_type": "code",
   "execution_count": 64,
   "metadata": {},
   "outputs": [
    {
     "data": {
      "image/png": "[encoded data removed]",
      "text/plain": [
       "<Figure size 864x432 with 2 Axes>"
      ]
     },
     "metadata": {},
     "output_type": "display_data"
    }
   ],
   "source": [
    "from sklearn.metrics import confusion_matrix\n",
    "import seaborn as sn\n",
    "import pandas as pd\n",
    "import matplotlib.pyplot as plt\n",
    "\n",
    "cm = confusion_matrix(y_test_classes,y_pred)\n",
    "\n",
    "df_cm = pd.DataFrame(cm) #index and column are given as 0-9 by default in DataFrame, so we don't need to add it \n",
    "\n",
    "plt.figure(figsize=(12,6))\n",
    "sn.heatmap(df_cm, annot=True,fmt=\"d\",  cmap=plt.cm.Blues, annot_kws={\"size\": 8}) # font size\n",
    "plt.xlabel('Predicted')\n",
    "\n",
    "plt.ylabel('Observed')\n",
    "\n",
    "plt.show()"
   ]
  },
  {
   "cell_type": "markdown",
   "metadata": {},
   "source": [
    "## Test accuracy vs epochs. Overfitting\n",
    "\n",
    "Let's see how the test accuracy changes with the number of epochs used in the fit, up to 100 epochs."
   ]
  },
  {
   "cell_type": "code",
   "execution_count": 24,
   "metadata": {},
   "outputs": [
    {
     "name": "stdout",
     "output_type": "stream",
     "text": [
      "1875/1875 [==============================] - 2s 739us/step - loss: 2.0956 - accuracy: 0.3327\n",
      "313/313 [==============================] - 0s 670us/step - loss: 1.4831 - accuracy: 0.7124\n",
      "1875/1875 [==============================] - 1s 728us/step - loss: 1.2577 - accuracy: 0.7489\n",
      "313/313 [==============================] - 0s 858us/step - loss: 1.0547 - accuracy: 0.7895\n",
      "1875/1875 [==============================] - 1s 726us/step - loss: 0.9480 - accuracy: 0.8031\n",
      "313/313 [==============================] - 0s 873us/step - loss: 0.8328 - accuracy: 0.8246\n",
      "1875/1875 [==============================] - 1s 775us/step - loss: 0.7778 - accuracy: 0.8307\n",
      "313/313 [==============================] - 0s 659us/step - loss: 0.7021 - accuracy: 0.8467\n",
      "1875/1875 [==============================] - 1s 791us/step - loss: 0.6724 - accuracy: 0.8477\n",
      "313/313 [==============================] - 0s 713us/step - loss: 0.6161 - accuracy: 0.8625\n",
      "1875/1875 [==============================] - 1s 762us/step - loss: 0.6014 - accuracy: 0.8582\n",
      "313/313 [==============================] - 0s 662us/step - loss: 0.5573 - accuracy: 0.8706\n",
      "1875/1875 [==============================] - 1s 726us/step - loss: 0.5510 - accuracy: 0.8663\n",
      "313/313 [==============================] - 0s 675us/step - loss: 0.5148 - accuracy: 0.8767\n",
      "1875/1875 [==============================] - 1s 713us/step - loss: 0.5134 - accuracy: 0.8729\n",
      "313/313 [==============================] - 0s 857us/step - loss: 0.4827 - accuracy: 0.8822\n",
      "1875/1875 [==============================] - 1s 761us/step - loss: 0.4844 - accuracy: 0.8779\n",
      "313/313 [==============================] - 0s 657us/step - loss: 0.4573 - accuracy: 0.8868\n",
      "1875/1875 [==============================] - 1s 737us/step - loss: 0.4613 - accuracy: 0.8821\n",
      "313/313 [==============================] - 0s 676us/step - loss: 0.4376 - accuracy: 0.8905\n",
      "1875/1875 [==============================] - 1s 722us/step - loss: 0.4422 - accuracy: 0.8858\n",
      "313/313 [==============================] - 0s 685us/step - loss: 0.4210 - accuracy: 0.8943\n",
      "1875/1875 [==============================] - 1s 764us/step - loss: 0.4264 - accuracy: 0.8890\n",
      "313/313 [==============================] - 0s 628us/step - loss: 0.4070 - accuracy: 0.8966\n",
      "1875/1875 [==============================] - 1s 724us/step - loss: 0.4127 - accuracy: 0.8917\n",
      "313/313 [==============================] - 0s 665us/step - loss: 0.3950 - accuracy: 0.8993\n",
      "1875/1875 [==============================] - 1s 716us/step - loss: 0.4010 - accuracy: 0.8940\n",
      "313/313 [==============================] - 0s 667us/step - loss: 0.3848 - accuracy: 0.8997\n",
      "1875/1875 [==============================] - 1s 776us/step - loss: 0.3906 - accuracy: 0.8961\n",
      "313/313 [==============================] - 0s 658us/step - loss: 0.3761 - accuracy: 0.9014\n",
      "1875/1875 [==============================] - 2s 835us/step - loss: 0.3815 - accuracy: 0.8979\n",
      "313/313 [==============================] - 0s 658us/step - loss: 0.3680 - accuracy: 0.9023\n",
      "1875/1875 [==============================] - 1s 788us/step - loss: 0.3734 - accuracy: 0.9000\n",
      "313/313 [==============================] - 0s 643us/step - loss: 0.3608 - accuracy: 0.9037\n",
      "1875/1875 [==============================] - 1s 787us/step - loss: 0.3660 - accuracy: 0.9016\n",
      "313/313 [==============================] - 0s 712us/step - loss: 0.3546 - accuracy: 0.9046\n",
      "1875/1875 [==============================] - 1s 748us/step - loss: 0.3594 - accuracy: 0.9028\n",
      "313/313 [==============================] - 0s 654us/step - loss: 0.3489 - accuracy: 0.9056\n",
      "1875/1875 [==============================] - 2s 836us/step - loss: 0.3533 - accuracy: 0.9045\n",
      "313/313 [==============================] - 0s 659us/step - loss: 0.3432 - accuracy: 0.9060\n",
      "1875/1875 [==============================] - 2s 872us/step - loss: 0.3477 - accuracy: 0.90560s - l\n",
      "313/313 [==============================] - 0s 657us/step - loss: 0.3385 - accuracy: 0.9077\n",
      "1875/1875 [==============================] - 1s 745us/step - loss: 0.3426 - accuracy: 0.9070\n",
      "313/313 [==============================] - 0s 692us/step - loss: 0.3345 - accuracy: 0.9084\n",
      "1875/1875 [==============================] - 2s 859us/step - loss: 0.3379 - accuracy: 0.9078\n",
      "313/313 [==============================] - 0s 677us/step - loss: 0.3300 - accuracy: 0.9086\n",
      "1875/1875 [==============================] - 2s 859us/step - loss: 0.3335 - accuracy: 0.9087\n",
      "313/313 [==============================] - 0s 660us/step - loss: 0.3264 - accuracy: 0.9084\n",
      "1875/1875 [==============================] - 1s 736us/step - loss: 0.3294 - accuracy: 0.9097\n",
      "313/313 [==============================] - 0s 659us/step - loss: 0.3229 - accuracy: 0.9098\n",
      "1875/1875 [==============================] - 1s 746us/step - loss: 0.3256 - accuracy: 0.9106\n",
      "313/313 [==============================] - 0s 674us/step - loss: 0.3201 - accuracy: 0.9115\n",
      "1875/1875 [==============================] - 1s 780us/step - loss: 0.3220 - accuracy: 0.9119\n",
      "313/313 [==============================] - 0s 743us/step - loss: 0.3167 - accuracy: 0.9119\n",
      "1875/1875 [==============================] - 1s 732us/step - loss: 0.3186 - accuracy: 0.9127\n",
      "313/313 [==============================] - 0s 671us/step - loss: 0.3138 - accuracy: 0.9127\n",
      "1875/1875 [==============================] - 1s 721us/step - loss: 0.3154 - accuracy: 0.9132\n",
      "313/313 [==============================] - 0s 679us/step - loss: 0.3113 - accuracy: 0.9134\n",
      "1875/1875 [==============================] - 1s 761us/step - loss: 0.3124 - accuracy: 0.9141\n",
      "313/313 [==============================] - 0s 686us/step - loss: 0.3086 - accuracy: 0.9134\n",
      "1875/1875 [==============================] - 1s 735us/step - loss: 0.3095 - accuracy: 0.9146\n",
      "313/313 [==============================] - 0s 740us/step - loss: 0.3066 - accuracy: 0.9150\n",
      "1875/1875 [==============================] - 1s 743us/step - loss: 0.3068 - accuracy: 0.9151\n",
      "313/313 [==============================] - 0s 653us/step - loss: 0.3040 - accuracy: 0.9153\n",
      "1875/1875 [==============================] - 1s 730us/step - loss: 0.3042 - accuracy: 0.9156\n",
      "313/313 [==============================] - 0s 652us/step - loss: 0.3022 - accuracy: 0.9151\n",
      "1875/1875 [==============================] - 1s 755us/step - loss: 0.3018 - accuracy: 0.9165\n",
      "313/313 [==============================] - 0s 786us/step - loss: 0.3000 - accuracy: 0.9158\n",
      "1875/1875 [==============================] - 1s 741us/step - loss: 0.2995 - accuracy: 0.9171\n",
      "313/313 [==============================] - 0s 652us/step - loss: 0.2986 - accuracy: 0.9150\n",
      "1875/1875 [==============================] - 1s 778us/step - loss: 0.2973 - accuracy: 0.9173\n",
      "313/313 [==============================] - 0s 668us/step - loss: 0.2962 - accuracy: 0.9164\n",
      "1875/1875 [==============================] - 1s 746us/step - loss: 0.2951 - accuracy: 0.9177\n",
      "313/313 [==============================] - 0s 707us/step - loss: 0.2946 - accuracy: 0.9164\n",
      "1875/1875 [==============================] - 1s 734us/step - loss: 0.2931 - accuracy: 0.9185\n",
      "313/313 [==============================] - 0s 659us/step - loss: 0.2930 - accuracy: 0.9174\n",
      "1875/1875 [==============================] - 1s 725us/step - loss: 0.2911 - accuracy: 0.9194\n",
      "313/313 [==============================] - 0s 725us/step - loss: 0.2918 - accuracy: 0.9182\n",
      "1875/1875 [==============================] - 1s 774us/step - loss: 0.2893 - accuracy: 0.9195\n",
      "313/313 [==============================] - 0s 671us/step - loss: 0.2900 - accuracy: 0.9181\n",
      "1875/1875 [==============================] - 1s 798us/step - loss: 0.2874 - accuracy: 0.9199\n",
      "313/313 [==============================] - 0s 693us/step - loss: 0.2892 - accuracy: 0.9170\n",
      "1875/1875 [==============================] - 1s 757us/step - loss: 0.2858 - accuracy: 0.9204\n",
      "313/313 [==============================] - 0s 640us/step - loss: 0.2874 - accuracy: 0.9187\n",
      "1875/1875 [==============================] - 1s 772us/step - loss: 0.2841 - accuracy: 0.9209\n",
      "313/313 [==============================] - 0s 662us/step - loss: 0.2861 - accuracy: 0.9193\n",
      "1875/1875 [==============================] - 1s 768us/step - loss: 0.2824 - accuracy: 0.9207\n",
      "313/313 [==============================] - 0s 669us/step - loss: 0.2852 - accuracy: 0.9190\n",
      "1875/1875 [==============================] - 2s 816us/step - loss: 0.2808 - accuracy: 0.9216\n"
     ]
    },
    {
     "name": "stdout",
     "output_type": "stream",
     "text": [
      "313/313 [==============================] - 0s 722us/step - loss: 0.2833 - accuracy: 0.9183\n",
      "1875/1875 [==============================] - 1s 721us/step - loss: 0.2794 - accuracy: 0.9219\n",
      "313/313 [==============================] - 0s 799us/step - loss: 0.2824 - accuracy: 0.9193\n",
      "1875/1875 [==============================] - 1s 772us/step - loss: 0.2779 - accuracy: 0.9223\n",
      "313/313 [==============================] - 0s 678us/step - loss: 0.2810 - accuracy: 0.9197\n",
      "1875/1875 [==============================] - 1s 730us/step - loss: 0.2765 - accuracy: 0.9224\n",
      "313/313 [==============================] - 0s 762us/step - loss: 0.2803 - accuracy: 0.9198\n",
      "1875/1875 [==============================] - 1s 759us/step - loss: 0.2752 - accuracy: 0.9227\n",
      "313/313 [==============================] - 0s 659us/step - loss: 0.2789 - accuracy: 0.9199\n",
      "1875/1875 [==============================] - 1s 712us/step - loss: 0.2738 - accuracy: 0.9230\n",
      "313/313 [==============================] - 0s 849us/step - loss: 0.2780 - accuracy: 0.9200\n",
      "1875/1875 [==============================] - 1s 706us/step - loss: 0.2725 - accuracy: 0.9232\n",
      "313/313 [==============================] - 0s 656us/step - loss: 0.2770 - accuracy: 0.9204\n",
      "1875/1875 [==============================] - 1s 777us/step - loss: 0.2712 - accuracy: 0.9239\n",
      "313/313 [==============================] - 0s 671us/step - loss: 0.2766 - accuracy: 0.9207\n",
      "1875/1875 [==============================] - 1s 720us/step - loss: 0.2700 - accuracy: 0.9241\n",
      "313/313 [==============================] - 0s 656us/step - loss: 0.2756 - accuracy: 0.9205\n",
      "1875/1875 [==============================] - 1s 747us/step - loss: 0.2688 - accuracy: 0.9243\n",
      "313/313 [==============================] - 0s 724us/step - loss: 0.2747 - accuracy: 0.9204\n",
      "1875/1875 [==============================] - 1s 799us/step - loss: 0.2676 - accuracy: 0.9247\n",
      "313/313 [==============================] - 0s 651us/step - loss: 0.2736 - accuracy: 0.9221\n",
      "1875/1875 [==============================] - 1s 731us/step - loss: 0.2665 - accuracy: 0.92480s - loss: 0\n",
      "313/313 [==============================] - 0s 665us/step - loss: 0.2722 - accuracy: 0.9215\n",
      "1875/1875 [==============================] - 1s 712us/step - loss: 0.2654 - accuracy: 0.9251\n",
      "313/313 [==============================] - 0s 659us/step - loss: 0.2717 - accuracy: 0.9216\n",
      "1875/1875 [==============================] - 2s 813us/step - loss: 0.2643 - accuracy: 0.9253\n",
      "313/313 [==============================] - 0s 639us/step - loss: 0.2710 - accuracy: 0.9218\n",
      "1875/1875 [==============================] - 1s 717us/step - loss: 0.2634 - accuracy: 0.9256\n",
      "313/313 [==============================] - 0s 651us/step - loss: 0.2701 - accuracy: 0.9220\n",
      "1875/1875 [==============================] - 1s 731us/step - loss: 0.2623 - accuracy: 0.9260\n",
      "313/313 [==============================] - 0s 657us/step - loss: 0.2702 - accuracy: 0.9218\n",
      "1875/1875 [==============================] - 1s 756us/step - loss: 0.2612 - accuracy: 0.9262\n",
      "313/313 [==============================] - 0s 729us/step - loss: 0.2688 - accuracy: 0.9217\n",
      "1875/1875 [==============================] - 1s 739us/step - loss: 0.2603 - accuracy: 0.9264\n",
      "313/313 [==============================] - 0s 661us/step - loss: 0.2678 - accuracy: 0.9223\n",
      "1875/1875 [==============================] - 1s 742us/step - loss: 0.2594 - accuracy: 0.9266\n",
      "313/313 [==============================] - 0s 658us/step - loss: 0.2669 - accuracy: 0.9238\n",
      "1875/1875 [==============================] - 1s 727us/step - loss: 0.2584 - accuracy: 0.9269\n",
      "313/313 [==============================] - 0s 682us/step - loss: 0.2661 - accuracy: 0.9229\n",
      "1875/1875 [==============================] - 2s 805us/step - loss: 0.2575 - accuracy: 0.9272\n",
      "313/313 [==============================] - 0s 667us/step - loss: 0.2654 - accuracy: 0.9229\n",
      "1875/1875 [==============================] - 1s 718us/step - loss: 0.2567 - accuracy: 0.9271\n",
      "313/313 [==============================] - 0s 648us/step - loss: 0.2649 - accuracy: 0.9236\n",
      "1875/1875 [==============================] - 1s 747us/step - loss: 0.2557 - accuracy: 0.9278\n",
      "313/313 [==============================] - 0s 702us/step - loss: 0.2646 - accuracy: 0.9232\n",
      "1875/1875 [==============================] - 1s 776us/step - loss: 0.2549 - accuracy: 0.9280\n",
      "313/313 [==============================] - 0s 643us/step - loss: 0.2640 - accuracy: 0.9229\n",
      "1875/1875 [==============================] - 1s 723us/step - loss: 0.2540 - accuracy: 0.9278\n",
      "313/313 [==============================] - 0s 651us/step - loss: 0.2638 - accuracy: 0.9241\n",
      "1875/1875 [==============================] - 1s 732us/step - loss: 0.2532 - accuracy: 0.9284\n",
      "313/313 [==============================] - 0s 649us/step - loss: 0.2626 - accuracy: 0.9240\n",
      "1875/1875 [==============================] - 1s 724us/step - loss: 0.2524 - accuracy: 0.9284\n",
      "313/313 [==============================] - 0s 658us/step - loss: 0.2618 - accuracy: 0.9240\n",
      "1875/1875 [==============================] - 1s 759us/step - loss: 0.2516 - accuracy: 0.9287\n",
      "313/313 [==============================] - 0s 753us/step - loss: 0.2612 - accuracy: 0.9244\n",
      "1875/1875 [==============================] - 1s 764us/step - loss: 0.2508 - accuracy: 0.9290\n",
      "313/313 [==============================] - 0s 671us/step - loss: 0.2605 - accuracy: 0.9236\n",
      "1875/1875 [==============================] - 2s 818us/step - loss: 0.2500 - accuracy: 0.9290\n",
      "313/313 [==============================] - 0s 717us/step - loss: 0.2601 - accuracy: 0.9245\n",
      "1875/1875 [==============================] - 1s 789us/step - loss: 0.2494 - accuracy: 0.9289\n",
      "313/313 [==============================] - 0s 624us/step - loss: 0.2595 - accuracy: 0.9240\n",
      "1875/1875 [==============================] - 1s 697us/step - loss: 0.2485 - accuracy: 0.9292\n",
      "313/313 [==============================] - 0s 624us/step - loss: 0.2595 - accuracy: 0.9249\n",
      "1875/1875 [==============================] - 1s 756us/step - loss: 0.2478 - accuracy: 0.9296\n",
      "313/313 [==============================] - 0s 626us/step - loss: 0.2583 - accuracy: 0.9246\n",
      "1875/1875 [==============================] - 1s 704us/step - loss: 0.2472 - accuracy: 0.9295\n",
      "313/313 [==============================] - 0s 627us/step - loss: 0.2580 - accuracy: 0.9252\n",
      "1875/1875 [==============================] - 1s 707us/step - loss: 0.2464 - accuracy: 0.9298\n",
      "313/313 [==============================] - 0s 630us/step - loss: 0.2572 - accuracy: 0.9248\n",
      "1875/1875 [==============================] - 1s 713us/step - loss: 0.2456 - accuracy: 0.9301\n",
      "313/313 [==============================] - 0s 737us/step - loss: 0.2571 - accuracy: 0.9242\n",
      "1875/1875 [==============================] - 1s 738us/step - loss: 0.2450 - accuracy: 0.9306\n",
      "313/313 [==============================] - 0s 624us/step - loss: 0.2565 - accuracy: 0.9254\n",
      "1875/1875 [==============================] - 1s 695us/step - loss: 0.2443 - accuracy: 0.9308\n",
      "313/313 [==============================] - 0s 657us/step - loss: 0.2557 - accuracy: 0.9256\n",
      "1875/1875 [==============================] - 1s 698us/step - loss: 0.2437 - accuracy: 0.9310\n",
      "313/313 [==============================] - 0s 700us/step - loss: 0.2551 - accuracy: 0.9254\n",
      "1875/1875 [==============================] - 1s 697us/step - loss: 0.2431 - accuracy: 0.9307\n",
      "313/313 [==============================] - 0s 627us/step - loss: 0.2541 - accuracy: 0.9257\n",
      "1875/1875 [==============================] - 1s 710us/step - loss: 0.2425 - accuracy: 0.9312\n",
      "313/313 [==============================] - 0s 629us/step - loss: 0.2544 - accuracy: 0.9262\n",
      "1875/1875 [==============================] - 1s 717us/step - loss: 0.2418 - accuracy: 0.9313\n",
      "313/313 [==============================] - 0s 634us/step - loss: 0.2541 - accuracy: 0.9259\n",
      "1875/1875 [==============================] - 1s 727us/step - loss: 0.2412 - accuracy: 0.9312\n",
      "313/313 [==============================] - 0s 629us/step - loss: 0.2536 - accuracy: 0.9255\n",
      "1875/1875 [==============================] - 1s 699us/step - loss: 0.2406 - accuracy: 0.9315\n",
      "313/313 [==============================] - 0s 637us/step - loss: 0.2536 - accuracy: 0.9254\n",
      "1875/1875 [==============================] - 1s 693us/step - loss: 0.2400 - accuracy: 0.9316\n",
      "313/313 [==============================] - 0s 629us/step - loss: 0.2529 - accuracy: 0.9258\n"
     ]
    },
    {
     "name": "stdout",
     "output_type": "stream",
     "text": [
      "1875/1875 [==============================] - 1s 701us/step - loss: 0.2394 - accuracy: 0.9321\n",
      "313/313 [==============================] - 0s 690us/step - loss: 0.2526 - accuracy: 0.9258\n",
      "1875/1875 [==============================] - 1s 702us/step - loss: 0.2388 - accuracy: 0.9320\n",
      "313/313 [==============================] - 0s 627us/step - loss: 0.2513 - accuracy: 0.9256\n",
      "1875/1875 [==============================] - 1s 707us/step - loss: 0.2383 - accuracy: 0.9324\n",
      "313/313 [==============================] - 0s 629us/step - loss: 0.2515 - accuracy: 0.9261\n",
      "1875/1875 [==============================] - 1s 686us/step - loss: 0.2377 - accuracy: 0.9325\n",
      "313/313 [==============================] - 0s 623us/step - loss: 0.2515 - accuracy: 0.9261\n",
      "1875/1875 [==============================] - 1s 720us/step - loss: 0.2371 - accuracy: 0.9322\n",
      "313/313 [==============================] - 0s 632us/step - loss: 0.2504 - accuracy: 0.9268\n",
      "1875/1875 [==============================] - 1s 700us/step - loss: 0.2365 - accuracy: 0.9327\n",
      "313/313 [==============================] - 0s 628us/step - loss: 0.2502 - accuracy: 0.9265\n",
      "1875/1875 [==============================] - 1s 684us/step - loss: 0.2360 - accuracy: 0.9332\n",
      "313/313 [==============================] - 0s 670us/step - loss: 0.2497 - accuracy: 0.9261\n",
      "1875/1875 [==============================] - 1s 712us/step - loss: 0.2355 - accuracy: 0.9328\n",
      "313/313 [==============================] - 0s 638us/step - loss: 0.2496 - accuracy: 0.9262\n",
      "1875/1875 [==============================] - 1s 691us/step - loss: 0.2349 - accuracy: 0.9328\n",
      "313/313 [==============================] - 0s 625us/step - loss: 0.2487 - accuracy: 0.9261\n",
      "1875/1875 [==============================] - 1s 691us/step - loss: 0.2343 - accuracy: 0.9334\n",
      "313/313 [==============================] - 0s 633us/step - loss: 0.2485 - accuracy: 0.9267\n"
     ]
    }
   ],
   "source": [
    "import numpy as np \n",
    "\n",
    "model_2 = keras.Sequential()\n",
    "model_2.add(layers.Dense(10,input_shape=(784,),activation=\"sigmoid\",name=\"dense_1\"))\n",
    "model_2.add(layers.Dense(10,activation=\"softmax\",name=\"dense_2\"))\n",
    "model_2.compile(loss=\"categorical_crossentropy\",\n",
    "             optimizer=\"sgd\",\n",
    "             metrics=[\"accuracy\"])\n",
    "\n",
    "test_loss = []\n",
    "test_acc = [] \n",
    "for i in range(1,100):\n",
    "             model_2.fit(x_train,y_train,epochs=1)\n",
    "             loss_aux, acc_aux = model_2.evaluate(x_test, y_test)\n",
    "             test_loss.append(loss_aux)\n",
    "             test_acc.append(acc_aux)\n",
    "\n"
   ]
  },
  {
   "cell_type": "code",
   "execution_count": 65,
   "metadata": {},
   "outputs": [
    {
     "data": {
      "text/plain": [
       "[<matplotlib.lines.Line2D at 0x7fc05c2c6e20>]"
      ]
     },
     "execution_count": 65,
     "metadata": {},
     "output_type": "execute_result"
    },
    {
     "data": {
      "image/png": "[encoded data removed]",
      "text/plain": [
       "<Figure size 720x360 with 1 Axes>"
      ]
     },
     "metadata": {},
     "output_type": "display_data"
    }
   ],
   "source": [
    "epochs = np.linspace(0,99,99)\n",
    "plt.figure(figsize=(10,5))\n",
    "plt.plot(epochs,test_acc)\n"
   ]
  },
  {
   "cell_type": "markdown",
   "metadata": {},
   "source": [
    "As you can see, the accuracy increases until it reaches a limit (around 0.92), where it does not seem to improve anymore, or the rate decreases quickly. We can see that it does not really make a difference to use, for example 40 epochs, or 100 as the difference in accuracy is not significant and fluctuacions in the model start to prevail (in order to see these, have a look at the accuracy values above the graph)."
   ]
  },
  {
   "cell_type": "markdown",
   "metadata": {},
   "source": [
    "## Model Predictions\n",
    "\n",
    "Now we will learn how to ask for predictions with our model. In the Model Evaluation section we have already seen the method `predict_classes()`, which returns the predicted label for each image. We will now use `predict()`, which returns an array with the probabilities of each possible label for a given imagen. If we would like to obtain the label with the highest probability (which is basically what we obtain with `predict_classes()`, we can use `np.argmax()`:"
   ]
  },
  {
   "cell_type": "code",
   "execution_count": 71,
   "metadata": {},
   "outputs": [],
   "source": [
    "predictions = model.predict(x_test)\n",
    "\n",
    "predictions_max = np.argmax(predictions,axis=1) #don't forget the axis=1"
   ]
  },
  {
   "cell_type": "markdown",
   "metadata": {},
   "source": [
    "And now we can check a random image:"
   ]
  },
  {
   "cell_type": "code",
   "execution_count": 72,
   "metadata": {},
   "outputs": [
    {
     "data": {
      "text/plain": [
       "1"
      ]
     },
     "execution_count": 72,
     "metadata": {},
     "output_type": "execute_result"
    }
   ],
   "source": [
    "predictions_max[2]"
   ]
  },
  {
   "cell_type": "code",
   "execution_count": 79,
   "metadata": {},
   "outputs": [
    {
     "data": {
      "text/plain": [
       "<matplotlib.image.AxesImage at 0x7fc05db6bc40>"
      ]
     },
     "execution_count": 79,
     "metadata": {},
     "output_type": "execute_result"
    },
    {
     "data": {
      "image/png": "[encoded data removed]",
      "text/plain": [
       "<Figure size 432x288 with 1 Axes>"
      ]
     },
     "metadata": {},
     "output_type": "display_data"
    }
   ],
   "source": [
    "x_test_try = x_test.reshape(10000,28,28) #we have to reshape again. We could have saved the reshaping in a second variable before\n",
    "\n",
    "\n",
    "plt.imshow(x_test_try[2])"
   ]
  },
  {
   "cell_type": "markdown",
   "metadata": {},
   "source": [
    "## References\n",
    "\n",
    "Apart from the links that you might find throughout the notebook, most of the work done here is based on the book *Python Deep Learning* from Jordi Torres (https://torres.ai/python-deep-learning/)"
   ]
  },
  {
   "cell_type": "code",
   "execution_count": null,
   "metadata": {},
   "outputs": [],
   "source": []
  }
 ],
 "metadata": {
  "kernelspec": {
   "display_name": "Python 3",
   "language": "python",
   "name": "python3"
  },
  "language_info": {
   "codemirror_mode": {
    "name": "ipython",
    "version": 3
   },
   "file_extension": ".py",
   "mimetype": "text/x-python",
   "name": "python",
   "nbconvert_exporter": "python",
   "pygments_lexer": "ipython3",
   "version": "3.8.5"
  }
 },
 "nbformat": 4,
 "nbformat_minor": 4
}
